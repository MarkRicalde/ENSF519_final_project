{
 "cells": [
  {
   "cell_type": "code",
   "execution_count": 18,
   "metadata": {},
   "outputs": [],
   "source": [
    "import pandas as pd\n",
    "\n",
    "imdb_budget_df = pd.read_csv('raw_data/imdb_budget.csv')\n",
    "oscar_dataset = pd.read_csv('oscar_data.csv')\n",
    "fixes = pd.read_csv('~/Desktop/failed_downloads.csv')\n",
    "fixed_titles = set(fixes['title'])\n",
    "winner_titles = set(oscar_dataset['entity'])\n",
    "non_oscar_winners_imdb = imdb_budget_df[imdb_budget_df['Title'].apply(lambda x: (x in winner_titles) or (x in fixed_titles)) == False]"
   ]
  },
  {
   "cell_type": "code",
   "execution_count": 22,
   "metadata": {},
   "outputs": [],
   "source": [
    "non_oscar_winners_imdb.to_csv('raw_data/non_oscar_imdb_metadata.csv', mode='w')"
   ]
  },
  {
   "cell_type": "code",
   "execution_count": null,
   "metadata": {},
   "outputs": [],
   "source": []
  }
 ],
 "metadata": {
  "kernelspec": {
   "display_name": "Python 3",
   "language": "python",
   "name": "python3"
  },
  "language_info": {
   "codemirror_mode": {
    "name": "ipython",
    "version": 3
   },
   "file_extension": ".py",
   "mimetype": "text/x-python",
   "name": "python",
   "nbconvert_exporter": "python",
   "pygments_lexer": "ipython3",
   "version": "3.7.3"
  }
 },
 "nbformat": 4,
 "nbformat_minor": 2
}
