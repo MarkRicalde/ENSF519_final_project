{
 "cells": [
  {
   "cell_type": "code",
   "execution_count": null,
   "metadata": {},
   "outputs": [],
   "source": [
    "\"\"\"import pandas as pd\n",
    "from urllib.parse import quote\n",
    "import requests\n",
    "import json\n",
    "\n",
    "response_data = []\n",
    "title_year_set = set()\n",
    "\n",
    "api_key = 'b5546873'\n",
    "api_url = 'http://www.omdbapi.com/?t={}&y={}&apikey={}'\n",
    "\n",
    "budget_data = pd.read_csv('top_grossing_movies.csv')\n",
    "titles_and_years = budget_data[['highest_grossing_year', 'Title']]\n",
    "\n",
    "for index, row in titles_and_years.iterrows():\n",
    "    title_year_set.add((row['Title'], row['highest_grossing_year']))\n",
    "\n",
    "    \n",
    "title_year_set = sorted(title_year_set)\n",
    "counter = 0\n",
    "for title, year in title_year_set:\n",
    "    if counter < 4500:\n",
    "        counter += 1\n",
    "        continue\n",
    "    if counter == 5000:\n",
    "        break\n",
    "    \n",
    "    response_dict = dict()\n",
    "    uri_title = quote(title)\n",
    "    url = api_url.format(uri_title, year, api_key)\n",
    "    response = requests.get(url)\n",
    "    try:\n",
    "        response_dict = json.loads(response.text)\n",
    "    except:\n",
    "        print('failed to parse for movie ', title)\n",
    "        continue\n",
    "    \n",
    "    if response_dict['Response'] == 'False':\n",
    "        prev_year = year - 1\n",
    "        url = api_url.format(uri_title, prev_year, api_key)\n",
    "        response = requests.get(url)\n",
    "        try:\n",
    "            response_dict = json.loads(response.text)\n",
    "        except:\n",
    "            print('failed to parse for movie ', title)\n",
    "            continue\n",
    "        response_dict = json.loads(response.text)\n",
    "    \n",
    "    response_dict['Title'] = title\n",
    "    response_data.append(response_dict)\n",
    "    counter += 1\n",
    "    \n",
    "response_data\"\"\""
   ]
  },
  {
   "cell_type": "code",
   "execution_count": 8,
   "metadata": {},
   "outputs": [],
   "source": [
    "#imdb_df = pd.DataFrame(response_data)\n",
    "#imdb_df.to_csv('imdb_budget.csv', mode='a', header=False)"
   ]
  },
  {
   "cell_type": "code",
   "execution_count": null,
   "metadata": {},
   "outputs": [],
   "source": [
    "\"\"\"import pandas as pd\n",
    "from urllib.parse import quote\n",
    "import requests\n",
    "import json\n",
    "\n",
    "response_data = []\n",
    "title_year_set = set()\n",
    "\n",
    "api_key = '6d4eee8d'\n",
    "api_url = 'http://www.omdbapi.com/?t={}&y={}&apikey={}'\n",
    "\n",
    "failed_df = pd.read_csv('failed_downloads.csv')\n",
    "failed_df\n",
    "\n",
    "titles_and_years = failed_df[['title', 'year']]\n",
    "for index, row in titles_and_years.iterrows():\n",
    "    title_year_set.add((row['title'], row['year']))\n",
    "\n",
    "    \n",
    "title_year_set = sorted(title_year_set)\n",
    "counter = 0\n",
    "for title, year in title_year_set:\n",
    "    if counter < 0:\n",
    "        counter += 1\n",
    "        continue\n",
    "    if counter == 500:\n",
    "        break\n",
    "    \n",
    "    response_dict = dict()\n",
    "    uri_title = quote(title)\n",
    "    url = api_url.format(uri_title, year, api_key)\n",
    "    response = requests.get(url)\n",
    "    try:\n",
    "        response_dict = json.loads(response.text)\n",
    "    except:\n",
    "        print('failed to parse for movie ', title)\n",
    "        continue\n",
    "    \n",
    "    if response_dict['Response'] == 'False':\n",
    "        prev_year = year - 1\n",
    "        url = api_url.format(uri_title, prev_year, api_key)\n",
    "        response = requests.get(url)\n",
    "        try:\n",
    "            response_dict = json.loads(response.text)\n",
    "        except:\n",
    "            print('failed to parse for movie ', title)\n",
    "            continue\n",
    "        response_dict = json.loads(response.text)\n",
    "    \n",
    "    response_dict['Title'] = title\n",
    "    response_data.append(response_dict)\n",
    "    counter += 1\n",
    "    \n",
    "response_data\"\"\""
   ]
  },
  {
   "cell_type": "code",
   "execution_count": 119,
   "metadata": {},
   "outputs": [],
   "source": [
    "import pandas as pd\n",
    "import numpy as np\n",
    "from sklearn.preprocessing import MultiLabelBinarizer\n",
    "\n",
    "imdb_budget_df = pd.read_csv('imdb_budget.csv')\n",
    "\n",
    "imdb_budget_df['Actors'] = imdb_budget_df['Actors'].astype('category')\n",
    "reduced_imdb = imdb_budget_df.loc[imdb_budget_df['Response'] == True]\n",
    "reduced_imdb = imdb_budget_df.loc[imdb_budget_df['Type'] == 'movie']\n",
    "mask = reduced_imdb['Actors'].notnull()\n",
    "reduced_imdb = reduced_imdb.dropna(subset=['Actors'])\n",
    "ohe_actors = reduced_imdb.Actors.str.get_dummies(sep=',').add_prefix('actor_')"
   ]
  },
  {
   "cell_type": "code",
   "execution_count": 121,
   "metadata": {},
   "outputs": [],
   "source": [
    "ohe_genres = reduced_imdb.Genre.str.get_dummies(sep=',').add_prefix('genre_')"
   ]
  },
  {
   "cell_type": "code",
   "execution_count": null,
   "metadata": {
    "scrolled": true
   },
   "outputs": [],
   "source": [
    "import re\n",
    "\n",
    "def paranthesis_remover(entry):\n",
    "    return re.sub('\\(.+?\\)', '', str(entry))\n",
    "\n",
    "reduced_imdb['Writer'] = reduced_imdb['Writer'].apply(paranthesis_remover)\n",
    "\n",
    "ohe_writers = reduced_imdb.Writer.str.get_dummies(sep=',').add_prefix('writer_')\n",
    "ohe_writers"
   ]
  },
  {
   "cell_type": "code",
   "execution_count": null,
   "metadata": {},
   "outputs": [],
   "source": [
    "reduced_imdb['Director'] = reduced_imdb['Director'].apply(paranthesis_remover)\n",
    "\n",
    "ohe_directors = reduced_imdb.Director.str.get_dummies(sep=',').add_prefix('director_')\n",
    "ohe_directors"
   ]
  },
  {
   "cell_type": "code",
   "execution_count": 124,
   "metadata": {},
   "outputs": [],
   "source": [
    "ohe_languages = reduced_imdb.Language.str.get_dummies(sep=',').add_prefix('language_')"
   ]
  },
  {
   "cell_type": "code",
   "execution_count": 127,
   "metadata": {},
   "outputs": [],
   "source": [
    "reduced_imdb = reduced_imdb.join(ohe_languages, lsuffix='caller', rsuffix='other')"
   ]
  },
  {
   "cell_type": "code",
   "execution_count": null,
   "metadata": {},
   "outputs": [],
   "source": [
    "reduced_imdb = reduced_imdb.join(ohe_actors, lsuffix='caller', rsuffix='other')\n",
    "reduced_imdb = reduced_imdb.join(ohe_directors, lsuffix='caller', rsuffix='other')\n",
    "reduced_imdb = reduced_imdb.join(ohe_genres, lsuffix='caller', rsuffix='other')\n",
    "reduced_imdb = reduced_imdb.join(ohe_writers, lsuffix='caller', rsuffix='other')"
   ]
  },
  {
   "cell_type": "code",
   "execution_count": null,
   "metadata": {},
   "outputs": [],
   "source": [
    "reduced_imdb = reduced_imdb.drop(columns=['Actors', 'Language', 'Writer', 'Genre', 'Director'])"
   ]
  },
  {
   "cell_type": "code",
   "execution_count": 140,
   "metadata": {},
   "outputs": [],
   "source": [
    "reduced_imdb.drop(columns=['Unnamed: 0'], inplace=True)"
   ]
  },
  {
   "cell_type": "code",
   "execution_count": 198,
   "metadata": {},
   "outputs": [],
   "source": [
    "reduced_imdb.drop(columns=['Awards', 'Plot', 'Error', 'Poster'], inplace=True)"
   ]
  },
  {
   "cell_type": "code",
   "execution_count": null,
   "metadata": {},
   "outputs": [],
   "source": []
  },
  {
   "cell_type": "code",
   "execution_count": 171,
   "metadata": {},
   "outputs": [],
   "source": []
  },
  {
   "cell_type": "code",
   "execution_count": null,
   "metadata": {},
   "outputs": [],
   "source": []
  },
  {
   "cell_type": "code",
   "execution_count": null,
   "metadata": {},
   "outputs": [],
   "source": []
  }
 ],
 "metadata": {
  "kernelspec": {
   "display_name": "Python 3",
   "language": "python",
   "name": "python3"
  },
  "language_info": {
   "codemirror_mode": {
    "name": "ipython",
    "version": 3
   },
   "file_extension": ".py",
   "mimetype": "text/x-python",
   "name": "python",
   "nbconvert_exporter": "python",
   "pygments_lexer": "ipython3",
   "version": "3.7.3"
  }
 },
 "nbformat": 4,
 "nbformat_minor": 2
}
