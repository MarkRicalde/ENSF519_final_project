{
 "cells": [
  {
   "cell_type": "markdown",
   "metadata": {},
   "source": [
    "# Movie Script Dataset"
   ]
  },
  {
   "cell_type": "markdown",
   "metadata": {},
   "source": [
    "### Load and transform textual script data"
   ]
  },
  {
   "cell_type": "code",
   "execution_count": 25,
   "metadata": {},
   "outputs": [
    {
     "name": "stdout",
     "output_type": "stream",
     "text": [
      "Loading data...\n"
     ]
    },
    {
     "name": "stderr",
     "output_type": "stream",
     "text": [
      "C:\\Users\\paulc\\AppData\\Local\\Programs\\Python\\Python37\\lib\\site-packages\\ipykernel_launcher.py:8: FutureWarning: Sorting because non-concatenation axis is not aligned. A future version\n",
      "of pandas will change to not sort by default.\n",
      "\n",
      "To accept the future behavior, pass 'sort=False'.\n",
      "\n",
      "To retain the current behavior and silence the warning, pass 'sort=True'.\n",
      "\n",
      "  \n"
     ]
    },
    {
     "name": "stdout",
     "output_type": "stream",
     "text": [
      "Vectorizing data with tfidf...\n"
     ]
    }
   ],
   "source": [
    "import pandas as pd\n",
    "from sklearn.model_selection import train_test_split\n",
    "from sklearn.feature_extraction.text import TfidfVectorizer\n",
    "\n",
    "def load_data(filename1, filename2):\n",
    "    data1 = pd.read_csv(filename1)\n",
    "    data2 = pd.read_csv(filename2)\n",
    "    combined_df = pd.concat([data1, data2], axis=0)\n",
    "    features = combined_df['script']\n",
    "    labels   = combined_df['oscar_nominee']\n",
    "    return features,labels\n",
    "\n",
    "def build_tfidf(xtrain):\n",
    "    vectorizer = TfidfVectorizer(max_features=10000, min_df=0.05, max_df=0.5)\n",
    "    # Fit the vectorizer here\n",
    "    vectorizer.fit(xtrain)\n",
    "    return vectorizer\n",
    "\n",
    "print('Loading data...')\n",
    "features,labels = load_data('processed_data\\\\cleaned_oscar_movie_scripts.csv', 'processed_data\\\\cleaned_non_oscar_movie_scripts.csv')\n",
    "xtrain, xtest, ytrain, ytest = train_test_split(features, labels, random_state=0, test_size=0.2, stratify=labels)\n",
    "\n",
    "print('Vectorizing data with tfidf...')\n",
    "vectorizer = build_tfidf(xtrain)\n",
    "xtrain = vectorizer.transform(xtrain)\n",
    "xtest  = vectorizer.transform(xtest)"
   ]
  },
  {
   "cell_type": "markdown",
   "metadata": {},
   "source": [
    "### Only run this cell to remove oscar nominees from non-oscar dataset"
   ]
  },
  {
   "cell_type": "code",
   "execution_count": 24,
   "metadata": {},
   "outputs": [
    {
     "name": "stdout",
     "output_type": "stream",
     "text": [
      "done\n"
     ]
    }
   ],
   "source": [
    "def clean_non_oscar_data(oscar_filename, non_oscar_filename):\n",
    "    data1 = pd.read_csv(oscar_filename)\n",
    "    data2 = pd.read_csv(non_oscar_filename)\n",
    "    oscar_movies = set(data1['title'])\n",
    "    data2 = data2[data2['title'].apply(lambda x: x in oscar_movies) == False]\n",
    "    del data2['Unnamed: 0']\n",
    "    data2.to_csv('processed_data\\\\fixed_cleaned_non_oscar_data.csv', index=False)\n",
    "\n",
    "# clean_non_oscar_data('processed_data\\\\cleaned_oscar_movie_scripts.csv', 'processed_data\\\\cleaned_non_oscar_movie_scripts.csv')\n",
    "print('done')"
   ]
  },
  {
   "cell_type": "markdown",
   "metadata": {},
   "source": [
    "### Only run this cell to combine script CSVs"
   ]
  },
  {
   "cell_type": "code",
   "execution_count": null,
   "metadata": {},
   "outputs": [],
   "source": [
    "def combine_oscar_csvs(oscar_filename, non_oscar_filename):\n",
    "    data1 = pd.read_csv(oscar_filename)\n",
    "    data2 = pd.read_csv(non_oscar_filename)\n",
    "    combined_df = pd.concat([data1, data2], axis=0)\n",
    "    del combined_df['Unnamed: 0']\n",
    "    del combined_df['oscar_nominee']\n",
    "    combined_df = combined_df[['title', 'release_year', 'script']]\n",
    "    combined_df.to_csv('processed_data\\\\combined_script_data.csv', index=False)\n",
    "\n",
    "combine_oscar_csvs('processed_data\\\\cleaned_oscar_movie_scripts.csv', 'processed_data\\\\cleaned_non_oscar_movie_scripts.csv')\n",
    "print('done')"
   ]
  },
  {
   "cell_type": "markdown",
   "metadata": {},
   "source": [
    "### Topic clustering for Oscar Winning Movies"
   ]
  },
  {
   "cell_type": "code",
   "execution_count": null,
   "metadata": {},
   "outputs": [],
   "source": []
  },
  {
   "cell_type": "markdown",
   "metadata": {},
   "source": [
    "### Sample prediction"
   ]
  },
  {
   "cell_type": "code",
   "execution_count": 26,
   "metadata": {},
   "outputs": [
    {
     "name": "stdout",
     "output_type": "stream",
     "text": [
      "Predicting...\n",
      "0.7439024390243902\n"
     ]
    }
   ],
   "source": [
    "from sklearn.linear_model import LogisticRegression\n",
    "from sklearn.ensemble import RandomForestClassifier\n",
    "\n",
    "print('Predicting...')\n",
    "lr_clf = LogisticRegression(solver='saga').fit(xtrain, ytrain)\n",
    "print(lr_clf.score(xtest, ytest))"
   ]
  }
 ],
 "metadata": {
  "kernelspec": {
   "display_name": "Python 3",
   "language": "python",
   "name": "python3"
  },
  "language_info": {
   "codemirror_mode": {
    "name": "ipython",
    "version": 3
   },
   "file_extension": ".py",
   "mimetype": "text/x-python",
   "name": "python",
   "nbconvert_exporter": "python",
   "pygments_lexer": "ipython3",
   "version": "3.7.4"
  }
 },
 "nbformat": 4,
 "nbformat_minor": 2
}
