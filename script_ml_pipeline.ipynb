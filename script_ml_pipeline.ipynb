{
 "cells": [
  {
   "cell_type": "markdown",
   "metadata": {},
   "source": [
    "# Movie Script Dataset"
   ]
  },
  {
   "cell_type": "markdown",
   "metadata": {},
   "source": [
    "### Load and transform textual script data"
   ]
  },
  {
   "cell_type": "code",
   "execution_count": 9,
   "metadata": {},
   "outputs": [
    {
     "name": "stdout",
     "output_type": "stream",
     "text": [
      "Loading data...\n",
      "Vectorizing data with tfidf...\n",
      "Predicting...\n",
      "0.7052730696798494\n"
     ]
    }
   ],
   "source": [
    "import pandas as pd\n",
    "from sklearn.model_selection import train_test_split\n",
    "from sklearn.feature_extraction.text import TfidfVectorizer\n",
    "\n",
    "def load_data(filename1, filename2):\n",
    "    data1 = pd.read_csv(filename1)\n",
    "    data2 = pd.read_csv(filename2)\n",
    "    combined_df = pd.concat([data1, data2], axis=0)\n",
    "    features = combined_df['script']\n",
    "    labels   = combined_df['oscar_nominee']\n",
    "    return features,labels\n",
    "\n",
    "def build_tfidf(xtrain):\n",
    "    vectorizer = TfidfVectorizer(max_features=10000, min_df=0.05, max_df=0.5)\n",
    "    # Fit the vectorizer here\n",
    "    vectorizer.fit(xtrain)\n",
    "    return vectorizer\n",
    "\n",
    "print('Loading data...')\n",
    "features,labels = load_data('cleaned_oscar_movie_scripts.csv', 'cleaned_non_oscar_movie_scripts.csv')\n",
    "xtrain, xtest, ytrain, ytest = train_test_split(features, labels, random_state=0, test_size=0.2, stratify=labels)\n",
    "\n",
    "print('Vectorizing data with tfidf...')\n",
    "vectorizer = build_tfidf(xtrain)\n",
    "xtrain = vectorizer.transform(xtrain)\n",
    "xtest  = vectorizer.transform(xtest)"
   ]
  },
  {
   "cell_type": "markdown",
   "metadata": {},
   "source": [
    "### Topic clustering for Oscar Winning Movies"
   ]
  },
  {
   "cell_type": "code",
   "execution_count": null,
   "metadata": {},
   "outputs": [],
   "source": []
  },
  {
   "cell_type": "markdown",
   "metadata": {},
   "source": [
    "### Sample prediction"
   ]
  },
  {
   "cell_type": "code",
   "execution_count": 13,
   "metadata": {},
   "outputs": [
    {
     "name": "stdout",
     "output_type": "stream",
     "text": [
      "Predicting...\n",
      "0.7052730696798494\n"
     ]
    }
   ],
   "source": [
    "from sklearn.linear_model import LogisticRegression\n",
    "from sklearn.ensemble import RandomForestClassifier\n",
    "\n",
    "print('Predicting...')\n",
    "lr_clf = LogisticRegression(solver='saga').fit(xtrain, ytrain)\n",
    "print(lr_clf.score(xtest, ytest))"
   ]
  }
 ],
 "metadata": {
  "kernelspec": {
   "display_name": "Python 3",
   "language": "python",
   "name": "python3"
  },
  "language_info": {
   "codemirror_mode": {
    "name": "ipython",
    "version": 3
   },
   "file_extension": ".py",
   "mimetype": "text/x-python",
   "name": "python",
   "nbconvert_exporter": "python",
   "pygments_lexer": "ipython3",
   "version": "3.7.4"
  }
 },
 "nbformat": 4,
 "nbformat_minor": 2
}
