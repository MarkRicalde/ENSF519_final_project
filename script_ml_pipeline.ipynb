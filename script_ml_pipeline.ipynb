{
 "cells": [
  {
   "cell_type": "markdown",
   "metadata": {},
   "source": [
    "### Load and transform textual script data"
   ]
  },
  {
   "cell_type": "code",
   "execution_count": 23,
   "metadata": {},
   "outputs": [
    {
     "data": {
      "text/html": [
       "<div>\n",
       "<style scoped>\n",
       "    .dataframe tbody tr th:only-of-type {\n",
       "        vertical-align: middle;\n",
       "    }\n",
       "\n",
       "    .dataframe tbody tr th {\n",
       "        vertical-align: top;\n",
       "    }\n",
       "\n",
       "    .dataframe thead th {\n",
       "        text-align: right;\n",
       "    }\n",
       "</style>\n",
       "<table border=\"1\" class=\"dataframe\">\n",
       "  <thead>\n",
       "    <tr style=\"text-align: right;\">\n",
       "      <th></th>\n",
       "      <th>title</th>\n",
       "      <th>script</th>\n",
       "      <th>won</th>\n",
       "    </tr>\n",
       "  </thead>\n",
       "  <tbody>\n",
       "    <tr>\n",
       "      <td>1</td>\n",
       "      <td>When Worlds Collide</td>\n",
       "      <td>['needl', 'heaven', 'haystack', 'star', 'heave...</td>\n",
       "      <td>1</td>\n",
       "    </tr>\n",
       "    <tr>\n",
       "      <td>5</td>\n",
       "      <td>Reds</td>\n",
       "      <td>['rememb', 'im', 'begin', 'forget', 'peopl', '...</td>\n",
       "      <td>1</td>\n",
       "    </tr>\n",
       "    <tr>\n",
       "      <td>12</td>\n",
       "      <td>Undefeated</td>\n",
       "      <td>['let', 'start', 'right', 'guard', 'shot', 'lo...</td>\n",
       "      <td>1</td>\n",
       "    </tr>\n",
       "    <tr>\n",
       "      <td>15</td>\n",
       "      <td>Seven Brides for Seven Brothers</td>\n",
       "      <td>['deliv', 'perfectionand', 'dont', 'brag', 'd'...</td>\n",
       "      <td>1</td>\n",
       "    </tr>\n",
       "    <tr>\n",
       "      <td>25</td>\n",
       "      <td>Henry V</td>\n",
       "      <td>['oh', 'muse', 'ascend', 'brightest', 'heaven'...</td>\n",
       "      <td>1</td>\n",
       "    </tr>\n",
       "    <tr>\n",
       "      <td>...</td>\n",
       "      <td>...</td>\n",
       "      <td>...</td>\n",
       "      <td>...</td>\n",
       "    </tr>\n",
       "    <tr>\n",
       "      <td>7441</td>\n",
       "      <td>The Roommate</td>\n",
       "      <td>['hi', 'hi', 'sara', 'matthew', 'sara', 'matth...</td>\n",
       "      <td>0</td>\n",
       "    </tr>\n",
       "    <tr>\n",
       "      <td>7442</td>\n",
       "      <td>Night of the Comet</td>\n",
       "      <td>['record', 'time', 'swung', 'univers', 'ellipt...</td>\n",
       "      <td>0</td>\n",
       "    </tr>\n",
       "    <tr>\n",
       "      <td>7443</td>\n",
       "      <td>Paddington</td>\n",
       "      <td>['darkest', 'peru', 'vast', 'unexplor', 'wilde...</td>\n",
       "      <td>0</td>\n",
       "    </tr>\n",
       "    <tr>\n",
       "      <td>7444</td>\n",
       "      <td>Jumanji: Welcome to the Jungle</td>\n",
       "      <td>['ocean', 'wave', 'crash', 'seagul', 'squawk',...</td>\n",
       "      <td>0</td>\n",
       "    </tr>\n",
       "    <tr>\n",
       "      <td>7445</td>\n",
       "      <td>Pitch Perfect</td>\n",
       "      <td>['exact', 'type', 'perform', 'expect', 'intern...</td>\n",
       "      <td>0</td>\n",
       "    </tr>\n",
       "  </tbody>\n",
       "</table>\n",
       "<p>3200 rows × 3 columns</p>\n",
       "</div>"
      ],
      "text/plain": [
       "                                title  \\\n",
       "1                 When Worlds Collide   \n",
       "5                                Reds   \n",
       "12                         Undefeated   \n",
       "15    Seven Brides for Seven Brothers   \n",
       "25                            Henry V   \n",
       "...                               ...   \n",
       "7441                     The Roommate   \n",
       "7442               Night of the Comet   \n",
       "7443                       Paddington   \n",
       "7444   Jumanji: Welcome to the Jungle   \n",
       "7445                    Pitch Perfect   \n",
       "\n",
       "                                                 script  won  \n",
       "1     ['needl', 'heaven', 'haystack', 'star', 'heave...    1  \n",
       "5     ['rememb', 'im', 'begin', 'forget', 'peopl', '...    1  \n",
       "12    ['let', 'start', 'right', 'guard', 'shot', 'lo...    1  \n",
       "15    ['deliv', 'perfectionand', 'dont', 'brag', 'd'...    1  \n",
       "25    ['oh', 'muse', 'ascend', 'brightest', 'heaven'...    1  \n",
       "...                                                 ...  ...  \n",
       "7441  ['hi', 'hi', 'sara', 'matthew', 'sara', 'matth...    0  \n",
       "7442  ['record', 'time', 'swung', 'univers', 'ellipt...    0  \n",
       "7443  ['darkest', 'peru', 'vast', 'unexplor', 'wilde...    0  \n",
       "7444  ['ocean', 'wave', 'crash', 'seagul', 'squawk',...    0  \n",
       "7445  ['exact', 'type', 'perform', 'expect', 'intern...    0  \n",
       "\n",
       "[3200 rows x 3 columns]"
      ]
     },
     "metadata": {},
     "output_type": "display_data"
    },
    {
     "name": "stdout",
     "output_type": "stream",
     "text": [
      "Done\n"
     ]
    }
   ],
   "source": [
    "import pandas as pd\n",
    "\n",
    "# Get scripts data\n",
    "script_csv_path = \"./processed_data/combined_script_data.csv\"\n",
    "script_data = pd.read_csv(script_csv_path)\n",
    "script_data = script_data.drop(columns=[\"release_year\"])\n",
    "# display(script_data)\n",
    "\n",
    "# Get Oscar labels\n",
    "oscar_labels_path = \"./processed_data/oscar_data.csv\"\n",
    "oscar_label = pd.read_csv(oscar_labels_path).rename(columns={\"entity\": \"title\", \"category\": \"nominated\", \"winner\": \"won\"})\n",
    "oscar_label = oscar_label.drop(columns=[\"year\"])\n",
    "oscar_label[\"nominated\"] = True\n",
    "# display(oscar_label)\n",
    "\n",
    "# Merge script and Oscar data\n",
    "script_oscar_df = pd.merge(script_data, oscar_label, how=\"outer\", on=\"title\")\n",
    "script_oscar_df = script_oscar_df.dropna(subset=['script'])\n",
    "script_oscar_df = script_oscar_df.fillna(False)\n",
    "# display(script_oscar_df)\n",
    "\n",
    "script_oscar_df['nominated'].astype('bool')\n",
    "script_oscar_df['won'].astype('bool')\n",
    "# print(script_oscar_df.dtypes)\n",
    "# display(script_oscar_df)\n",
    "\n",
    "script_oscar_df = script_oscar_df[script_oscar_df['nominated'] == script_oscar_df['won']].drop_duplicates()\n",
    "script_oscar_df = script_oscar_df.drop(columns=['nominated'])\n",
    "script_oscar_df['won'] = script_oscar_df['won'].astype(int)\n",
    "display(script_oscar_df)\n",
    "\n",
    "script_oscar_df.reset_index()\n",
    "print('Done')"
   ]
  },
  {
   "cell_type": "code",
   "execution_count": 24,
   "metadata": {},
   "outputs": [
    {
     "name": "stdout",
     "output_type": "stream",
     "text": [
      "done\n"
     ]
    }
   ],
   "source": [
    "features,labels = script_oscar_df['script'],script_oscar_df['won']\n",
    "print('done')"
   ]
  },
  {
   "cell_type": "code",
   "execution_count": 25,
   "metadata": {},
   "outputs": [
    {
     "name": "stdout",
     "output_type": "stream",
     "text": [
      "Vectorizing data with tfidf...\n",
      "done\n"
     ]
    }
   ],
   "source": [
    "from sklearn.model_selection import train_test_split\n",
    "from sklearn.feature_extraction.text import TfidfVectorizer\n",
    "\n",
    "def build_tfidf(xtrain):\n",
    "    vectorizer = TfidfVectorizer(max_features=10000, min_df=0.05, max_df=0.5)\n",
    "    # Fit the vectorizer here\n",
    "    vectorizer.fit(xtrain)\n",
    "    return vectorizer\n",
    "\n",
    "xtrain, xtest, ytrain, ytest = train_test_split(features, labels, random_state=0, test_size=0.2, stratify=labels)\n",
    "\n",
    "print('Vectorizing data with tfidf...')\n",
    "vectorizer = build_tfidf(xtrain)\n",
    "xtrain = vectorizer.transform(xtrain)\n",
    "xtest  = vectorizer.transform(xtest)\n",
    "print('done')"
   ]
  },
  {
   "cell_type": "markdown",
   "metadata": {},
   "source": [
    "### Exploratory Data Analysis"
   ]
  },
  {
   "cell_type": "code",
   "execution_count": null,
   "metadata": {},
   "outputs": [],
   "source": [
    "# Do feature importance exploration\n",
    "\n",
    "# Do Confusion Matrix exploration"
   ]
  },
  {
   "cell_type": "markdown",
   "metadata": {},
   "source": [
    "### Visualize data"
   ]
  },
  {
   "cell_type": "code",
   "execution_count": null,
   "metadata": {},
   "outputs": [],
   "source": []
  },
  {
   "cell_type": "markdown",
   "metadata": {},
   "source": [
    "### ML prediction"
   ]
  },
  {
   "cell_type": "code",
   "execution_count": 26,
   "metadata": {},
   "outputs": [
    {
     "name": "stdout",
     "output_type": "stream",
     "text": [
      "Predicting...\n",
      "0.8390625\n",
      "done\n"
     ]
    },
    {
     "name": "stderr",
     "output_type": "stream",
     "text": [
      "C:\\Users\\paulc\\AppData\\Local\\Programs\\Python\\Python37\\lib\\site-packages\\sklearn\\linear_model\\sag.py:337: ConvergenceWarning: The max_iter was reached which means the coef_ did not converge\n",
      "  \"the coef_ did not converge\", ConvergenceWarning)\n"
     ]
    }
   ],
   "source": [
    "from sklearn.linear_model import LogisticRegression\n",
    "\n",
    "print('Predicting...')\n",
    "lr_clf = LogisticRegression(solver='saga').fit(xtrain, ytrain)\n",
    "print(lr_clf.score(xtest, ytest))\n",
    "print('done')"
   ]
  },
  {
   "cell_type": "code",
   "execution_count": null,
   "metadata": {},
   "outputs": [],
   "source": []
  }
 ],
 "metadata": {
  "kernelspec": {
   "display_name": "Python 3",
   "language": "python",
   "name": "python3"
  },
  "language_info": {
   "codemirror_mode": {
    "name": "ipython",
    "version": 3
   },
   "file_extension": ".py",
   "mimetype": "text/x-python",
   "name": "python",
   "nbconvert_exporter": "python",
   "pygments_lexer": "ipython3",
   "version": "3.7.4"
  }
 },
 "nbformat": 4,
 "nbformat_minor": 2
}
