{
 "cells": [
  {
   "cell_type": "code",
   "execution_count": 156,
   "metadata": {},
   "outputs": [],
   "source": [
    "import pandas as pd\n",
    "import numpy as np\n",
    "import re\n",
    "\n",
    "def paranthesis_remover(entry):\n",
    "    return re.sub('\\(.+?\\)', '', str(entry))\n",
    "\n",
    "def one_hot_encoder(file_name):\n",
    "    imdb_budget_df = pd.read_csv(file_name)\n",
    "    \n",
    "    # Include only movies, and successful API calls\n",
    "    reduced_imdb = imdb_budget_df.loc[imdb_budget_df['Response'] == True]\n",
    "    reduced_imdb = imdb_budget_df.loc[imdb_budget_df['Type'] == 'movie']\n",
    "    \n",
    "    # drop extra columns\n",
    "    reduced_imdb.columns = map(str.lower, reduced_imdb.columns)\n",
    "    return reduced_imdb.drop(columns=['actors', 'dvd', 'writer', 'unnamed: 0', 'awards',\n",
    "                                      'plot', 'error', 'poster', 'production',\n",
    "                                      'rated', 'released', 'response',\n",
    "                                      'type', 'website', 'imdbid', 'totalseasons'])\n",
    "    "
   ]
  },
  {
   "cell_type": "code",
   "execution_count": 157,
   "metadata": {},
   "outputs": [],
   "source": [
    "imdb = one_hot_encoder('raw_data/combined_imdb_data.csv')"
   ]
  },
  {
   "cell_type": "code",
   "execution_count": 158,
   "metadata": {},
   "outputs": [
    {
     "name": "stderr",
     "output_type": "stream",
     "text": [
      "C:\\Users\\Harjee\\Anaconda3\\lib\\site-packages\\ipykernel_launcher.py:2: SettingWithCopyWarning: \n",
      "A value is trying to be set on a copy of a slice from a DataFrame.\n",
      "Try using .loc[row_indexer,col_indexer] = value instead\n",
      "\n",
      "See the caveats in the documentation: http://pandas.pydata.org/pandas-docs/stable/indexing.html#indexing-view-versus-copy\n",
      "  \n"
     ]
    }
   ],
   "source": [
    "def preprocess(df):\n",
    "    df['boxoffice'] = df['boxoffice'].apply(lambda x: ''.join([ch for ch in x if ch.isdigit()]))\n",
    "    return df\n",
    "\n",
    "budget_df = imdb.dropna(subset=['boxoffice'])\n",
    "budget_df = preprocess(budget_df)"
   ]
  },
  {
   "cell_type": "code",
   "execution_count": 159,
   "metadata": {},
   "outputs": [],
   "source": [
    "oscar_data = pd.read_csv('./processed_data/oscar_data.csv').rename(columns={\"entity\": \"title\", \"category\": \"nominated\", \"winner\": \"won\"})"
   ]
  },
  {
   "cell_type": "code",
   "execution_count": 160,
   "metadata": {},
   "outputs": [],
   "source": [
    "budget_df = pd.merge(budget_df, foreign_oscars, how='inner', on='title')\n"
   ]
  },
  {
   "cell_type": "code",
   "execution_count": 161,
   "metadata": {},
   "outputs": [],
   "source": [
    "def grab_first(entry):\n",
    "    return entry.split(',')[0]\n",
    "\n",
    "budget_df['country'] = budget_df['country'].apply(grab_first)"
   ]
  },
  {
   "cell_type": "code",
   "execution_count": 162,
   "metadata": {},
   "outputs": [
    {
     "name": "stderr",
     "output_type": "stream",
     "text": [
      "C:\\Users\\Harjee\\Anaconda3\\lib\\site-packages\\ipykernel_launcher.py:4: SettingWithCopyWarning: \n",
      "A value is trying to be set on a copy of a slice from a DataFrame\n",
      "\n",
      "See the caveats in the documentation: http://pandas.pydata.org/pandas-docs/stable/indexing.html#indexing-view-versus-copy\n",
      "  after removing the cwd from sys.path.\n"
     ]
    },
    {
     "data": {
      "text/plain": [
       "<matplotlib.axes._subplots.AxesSubplot at 0x6f40dcb470>"
      ]
     },
     "execution_count": 162,
     "metadata": {},
     "output_type": "execute_result"
    },
    {
     "data": {
      "image/png": "[encoded data removed]",
      "text/plain": [
       "<Figure size 864x576 with 1 Axes>"
      ]
     },
     "metadata": {
      "needs_background": "light"
     },
     "output_type": "display_data"
    }
   ],
   "source": [
    "import matplotlib.pyplot as plt\n",
    "\n",
    "foid = foreign_oscar_imdb_df[['country', 'won', 'year_x']]\n",
    "foid.sort_values('year_x', inplace=True)\n",
    "foid = foid[foid['won'] == True]\n",
    "\n",
    "winning_countries = foid.groupby(['country']).sum()\n",
    "winning_countries = winning_countries.reset_index().sort_values('won', ascending=False)\n",
    "winning_countries = winning_countries.nlargest(10, columns='won')\n",
    "winning_countries.plot(x='country', y='won', kind='bar', rot=0, figsize=(12, 8), title='Foreign Oscar Winners By Country')"
   ]
  },
  {
   "cell_type": "code",
   "execution_count": 163,
   "metadata": {},
   "outputs": [],
   "source": [
    "def grab_first_two(entry):\n",
    "    return ','.join(sorted(entry.split(',')[0:1]))\n",
    "    \n",
    "budget_df['genre'] = budget_df['genre'].apply(grab_first_two)\n",
    "budget_df['director'] = budget_df['director'].apply(grab_first)\n",
    "budget_df['language'] = budget_df['language'].apply(grab_first)"
   ]
  },
  {
   "cell_type": "code",
   "execution_count": 165,
   "metadata": {},
   "outputs": [
    {
     "name": "stderr",
     "output_type": "stream",
     "text": [
      "C:\\Users\\Harjee\\Anaconda3\\lib\\site-packages\\ipykernel_launcher.py:2: SettingWithCopyWarning: \n",
      "A value is trying to be set on a copy of a slice from a DataFrame\n",
      "\n",
      "See the caveats in the documentation: http://pandas.pydata.org/pandas-docs/stable/indexing.html#indexing-view-versus-copy\n",
      "  \n"
     ]
    },
    {
     "data": {
      "text/plain": [
       "<matplotlib.axes._subplots.AxesSubplot at 0x6f417e9a90>"
      ]
     },
     "execution_count": 165,
     "metadata": {},
     "output_type": "execute_result"
    },
    {
     "data": {
      "image/png": "[encoded data removed]",
      "text/plain": [
       "<Figure size 864x576 with 1 Axes>"
      ]
     },
     "metadata": {
      "needs_background": "light"
     },
     "output_type": "display_data"
    }
   ],
   "source": [
    "genre_df = budget_df[['genre', 'won', 'year_x']]\n",
    "genre_df.sort_values('year_x', inplace=True)\n",
    "genre_df = genre_df[genre_df['won'] == True]\n",
    "\n",
    "winning_genres = genre_df.groupby(['genre']).sum()\n",
    "winning_genres = winning_genres.reset_index().sort_values('won', ascending=False)\n",
    "winning_genres = winning_genres.nlargest(10, columns='won')\n",
    "winning_genres.plot(x='genre', y='won', kind='bar', rot=0, figsize=(12, 8), title='Oscar Winners By Primary Genre')"
   ]
  },
  {
   "cell_type": "code",
   "execution_count": null,
   "metadata": {},
   "outputs": [],
   "source": [
    "from sklearn.decomposition import PCA\n",
    "\n",
    "PCA(n_)"
   ]
  }
 ],
 "metadata": {
  "kernelspec": {
   "display_name": "Python 3",
   "language": "python",
   "name": "python3"
  },
  "language_info": {
   "codemirror_mode": {
    "name": "ipython",
    "version": 3
   },
   "file_extension": ".py",
   "mimetype": "text/x-python",
   "name": "python",
   "nbconvert_exporter": "python",
   "pygments_lexer": "ipython3",
   "version": "3.7.3"
  }
 },
 "nbformat": 4,
 "nbformat_minor": 2
}
