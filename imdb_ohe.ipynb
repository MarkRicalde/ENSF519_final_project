{
 "cells": [
  {
   "cell_type": "code",
   "execution_count": 119,
   "metadata": {},
   "outputs": [],
   "source": [
    "import pandas as pd\n",
    "import numpy as np\n",
    "import re\n",
    "\n",
    "def paranthesis_remover(entry):\n",
    "    return re.sub('\\(.+?\\)', '', str(entry))\n",
    "\n",
    "def one_hot_encoder(file_name):\n",
    "    imdb_budget_df = pd.read_csv(file_name)\n",
    "    \n",
    "    # Include only movies, and successful API calls\n",
    "    reduced_imdb = imdb_budget_df.loc[imdb_budget_df['Response'] == True]\n",
    "    reduced_imdb = imdb_budget_df.loc[imdb_budget_df['Type'] == 'movie']\n",
    "\n",
    "    # Remove movies without actors\n",
    "    reduced_imdb = reduced_imdb.dropna(subset=['Actors'])\n",
    "\n",
    "    # One-hot encode actors, genres, writers, directors, and languages\n",
    "    ohe_actors = reduced_imdb.Actors.str.get_dummies(sep=',').add_prefix('actor_')\n",
    "    ohe_genres = reduced_imdb.Genre.str.get_dummies(sep=',').add_prefix('genre_')\n",
    "    ohe_languages = reduced_imdb.Language.str.get_dummies(sep=',').add_prefix('language_')\n",
    "\n",
    "    # Writers and directors have parenthesis around some of their fields, like '(assistant director)', which needs to be removed\n",
    "    reduced_imdb['Writer'] = reduced_imdb['Writer'].apply(paranthesis_remover)\n",
    "    ohe_writers = reduced_imdb.Writer.str.get_dummies(sep=',').add_prefix('writer_')\n",
    "\n",
    "    reduced_imdb['Director'] = reduced_imdb['Director'].apply(paranthesis_remover)\n",
    "    ohe_directors = reduced_imdb.Director.str.get_dummies(sep=',').add_prefix('director_')\n",
    "    \n",
    "    # join the different One-hot encodings together\n",
    "    reduced_imdb = reduced_imdb.join(ohe_languages, lsuffix='caller', rsuffix='other')\n",
    "    reduced_imdb = reduced_imdb.join(ohe_actors, lsuffix='caller', rsuffix='other')\n",
    "    reduced_imdb = reduced_imdb.join(ohe_directors, lsuffix='caller', rsuffix='other')\n",
    "    reduced_imdb = reduced_imdb.join(ohe_genres, lsuffix='caller', rsuffix='other')\n",
    "    reduced_imdb = reduced_imdb.join(ohe_writers, lsuffix='caller', rsuffix='other')\n",
    "    \n",
    "    # drop extra columns\n",
    "    reduced_imdb.drop(columns=['Actors', 'Language', 'Writer', 'Genre', 'Director', 'Unnamed: 0', 'Awards', 'Plot', 'Error', 'Poster'])"
   ]
  },
  {
   "cell_type": "code",
   "execution_count": null,
   "metadata": {},
   "outputs": [],
   "source": [
    "imdb_data = one_hot_encoder('raw_data/imdb_budget.csv')"
   ]
  }
 ],
 "metadata": {
  "kernelspec": {
   "display_name": "Python 3",
   "language": "python",
   "name": "python3"
  },
  "language_info": {
   "codemirror_mode": {
    "name": "ipython",
    "version": 3
   },
   "file_extension": ".py",
   "mimetype": "text/x-python",
   "name": "python",
   "nbconvert_exporter": "python",
   "pygments_lexer": "ipython3",
   "version": "3.7.3"
  }
 },
 "nbformat": 4,
 "nbformat_minor": 2
}
