{
 "cells": [
  {
   "cell_type": "markdown",
   "metadata": {},
   "source": [
    "Final Project"
   ]
  },
  {
   "cell_type": "code",
   "execution_count": 14,
   "metadata": {},
   "outputs": [
    {
     "data": {
      "text/plain": [
       "[]"
      ]
     },
     "execution_count": 14,
     "metadata": {},
     "output_type": "execute_result"
    }
   ],
   "source": [
    "import pandas as pd\n",
    "from urllib.parse import quote\n",
    "import requests\n",
    "import json\n",
    "\n",
    "response_data = []\n",
    "title_year_set = set()\n",
    "\n",
    "api_key = 'b8236321'\n",
    "api_url = 'http://www.omdbapi.com/?t={}&y={}&apikey={}'\n",
    "\n",
    "oscar_data = pd.read_csv('oscar_data.csv')\n",
    "titles_and_years = oscar_data[['year', 'entity']]\n",
    "\n",
    "for index, row in titles_and_years.iterrows():\n",
    "    title_year_set.add((row['entity'], row['year']))\n",
    "\n",
    "    \n",
    "title_year_set = sorted(title_year_set)\n",
    "counter = 0\n",
    "for title, year in title_year_set:\n",
    "    if counter < 4900:\n",
    "        counter += 1\n",
    "        continue\n",
    "    if counter == 5900:\n",
    "        break\n",
    "    \n",
    "    title = quote(title)\n",
    "    url = api_url.format(title, year, api_key)\n",
    "    response = requests.get(url)\n",
    "    response_data.append(json.loads(response.text))\n",
    "    counter += 1\n",
    "    \n",
    "response_data"
   ]
  },
  {
   "cell_type": "code",
   "execution_count": 13,
   "metadata": {},
   "outputs": [],
   "source": [
    "imdb_df = pd.DataFrame(response_data)\n",
    "\n",
    "with open('imdb_data.csv', 'a') as f:\n",
    "    imdb_df.to_csv(f, header=False)"
   ]
  },
  {
   "cell_type": "code",
   "execution_count": null,
   "metadata": {},
   "outputs": [],
   "source": []
  }
 ],
 "metadata": {
  "kernelspec": {
   "display_name": "Python 3",
   "language": "python",
   "name": "python3"
  },
  "language_info": {
   "codemirror_mode": {
    "name": "ipython",
    "version": 3
   },
   "file_extension": ".py",
   "mimetype": "text/x-python",
   "name": "python",
   "nbconvert_exporter": "python",
   "pygments_lexer": "ipython3",
   "version": "3.7.3"
  }
 },
 "nbformat": 4,
 "nbformat_minor": 2
}
