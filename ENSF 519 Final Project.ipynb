{
 "cells": [
  {
   "cell_type": "markdown",
   "metadata": {},
   "source": [
    "Final Project"
   ]
  },
  {
   "cell_type": "code",
   "execution_count": null,
   "metadata": {},
   "outputs": [],
   "source": [
    "from sklearn.feature_extraction.text import TfidfVectorizer\n",
    "from sklearn.feature_extraction.text import ENGLISH_STOP_WORDS\n",
    "from nltk.stem.snowball import SnowballStemmer\n",
    "\n",
    "stemmer = SnowballStemmer(\"english\")\n",
    "\n",
    "def clean_text(text):\n",
    "    #Lower casing the text\n",
    "    text = text.lower()\n",
    "    \n",
    "    #Removing punctuation\n",
    "    translation = text.maketrans(\"\", \"\", string.punctuation)\n",
    "    text = text.translate(translation)\n",
    "    re.sub(\"\\s\\s+\", \" \", text)\n",
    "    \n",
    "    #Removing stop words\n",
    "    text = \" \".join([word for word in text.split() if word not in ENGLISH_STOP_WORDS])\n",
    "    \n",
    "    #Stemming the words\n",
    "    text = \" \".join([stemmer.stem(word) for word in text.split()])\n",
    "    \n",
    "    return text\n",
    "\n",
    "#Cleaning the script\n",
    "data[\"script\"] = data[\"script\"].apply(clean_text)\n",
    "\n",
    "vectors = data[\"text\"]\n",
    "labels = sms[\"label\"]\n",
    "   \n",
    "#Splitting the data set    \n",
    "X_train, X_test, y_train, y_test = train_test_split(vectors, labels, stratify=labels)\n",
    "\n",
    "#Vectorizing the training set\n",
    "tfidf_vect = TfidfVectorizer().fit(X_train)\n",
    "X_train = tfidf_vect.transform(X_train)\n",
    "\n",
    "#Logistic Regression\n",
    "logreg = LogisticRegression(solver=\"liblinear\").fit(X_train, y_train)\n",
    "logreg.score(X_test, y_test)"
   ]
  }
 ],
 "metadata": {
  "kernelspec": {
   "display_name": "Python 3",
   "language": "python",
   "name": "python3"
  },
  "language_info": {
   "codemirror_mode": {
    "name": "ipython",
    "version": 3
   },
   "file_extension": ".py",
   "mimetype": "text/x-python",
   "name": "python",
   "nbconvert_exporter": "python",
   "pygments_lexer": "ipython3",
   "version": "3.6.8"
  }
 },
 "nbformat": 4,
 "nbformat_minor": 2
}
